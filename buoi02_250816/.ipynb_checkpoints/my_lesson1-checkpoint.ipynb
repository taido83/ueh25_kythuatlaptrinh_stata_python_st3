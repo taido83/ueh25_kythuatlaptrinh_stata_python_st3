{
 "cells": [
  {
   "cell_type": "markdown",
   "id": "ce012a2e-991f-425e-b650-c4d3f035888f",
   "metadata": {},
   "source": [
    "# My Lesson1"
   ]
  },
  {
   "cell_type": "code",
   "execution_count": 2,
   "id": "f02488dd-d2f7-4555-94a4-d6562c467932",
   "metadata": {},
   "outputs": [
    {
     "name": "stdout",
     "output_type": "stream",
     "text": [
      "Calculator Basic\n",
      "Moi ban nhap so a: ^C\n",
      "Traceback (most recent call last):\n",
      "  File \"/workspaces/ueh25_kythuatlaptrinh_stata_python/buoi02_250816/ex1_calc.py\", line 2, in <module>\n",
      "    a = int(input(\"Moi ban nhap so a: \"))\n",
      "            ^^^^^^^^^^^^^^^^^^^^^^^^^^^^\n",
      "KeyboardInterrupt\n"
     ]
    }
   ],
   "source": [
    "!python ex1_calc.py"
   ]
  },
  {
   "cell_type": "code",
   "execution_count": 3,
   "id": "db6401ae-880e-400f-b8ba-96a94a1ec166",
   "metadata": {},
   "outputs": [
    {
     "name": "stdout",
     "output_type": "stream",
     "text": [
      "Calculator Basic\n"
     ]
    },
    {
     "name": "stdin",
     "output_type": "stream",
     "text": [
      "Moi ban nhap so a:  10\n",
      "Moi ban nhap so b:  20\n"
     ]
    },
    {
     "name": "stdout",
     "output_type": "stream",
     "text": [
      "c = 10 + 20 = 30\n"
     ]
    }
   ],
   "source": [
    "%run ex1_calc.py"
   ]
  },
  {
   "cell_type": "code",
   "execution_count": 5,
   "id": "70512181-ad41-484e-b467-aa2ac441ed3d",
   "metadata": {},
   "outputs": [
    {
     "data": {
      "text/plain": [
       "(10, 20)"
      ]
     },
     "execution_count": 5,
     "metadata": {},
     "output_type": "execute_result"
    }
   ],
   "source": [
    "a, b"
   ]
  },
  {
   "cell_type": "markdown",
   "id": "15535f3b-0042-4951-b920-88dbdfd2f396",
   "metadata": {},
   "source": [
    "## Kết Thúc"
   ]
  },
  {
   "cell_type": "code",
   "execution_count": 6,
   "id": "a0412532-168d-4ea9-88ed-176d2fbec3b9",
   "metadata": {},
   "outputs": [
    {
     "name": "stdout",
     "output_type": "stream",
     "text": [
      "[NbConvertApp] Converting notebook my_lesson1.ipynb to html\n",
      "[NbConvertApp] Writing 273691 bytes to my_lesson1_250816.html\n"
     ]
    }
   ],
   "source": [
    "!jupyter nbconvert my_lesson1.ipynb --to html --output my_lesson1_250816.html"
   ]
  }
 ],
 "metadata": {
  "kernelspec": {
   "display_name": "Python 3 (ipykernel)",
   "language": "python",
   "name": "python3"
  },
  "language_info": {
   "codemirror_mode": {
    "name": "ipython",
    "version": 3
   },
   "file_extension": ".py",
   "mimetype": "text/x-python",
   "name": "python",
   "nbconvert_exporter": "python",
   "pygments_lexer": "ipython3",
   "version": "3.12.1"
  }
 },
 "nbformat": 4,
 "nbformat_minor": 5
}
