{
 "cells": [
  {
   "cell_type": "markdown",
   "id": "47c5cc1a-331e-4205-b7fc-58a67b32a322",
   "metadata": {},
   "source": [
    "# PYTHON 101"
   ]
  },
  {
   "cell_type": "code",
   "execution_count": 1,
   "id": "2b354eea-2fda-40ec-a001-4c29c3d465ee",
   "metadata": {},
   "outputs": [
    {
     "name": "stdout",
     "output_type": "stream",
     "text": [
      "3\n"
     ]
    }
   ],
   "source": [
    "x = 2 + 1\n",
    "print(x)"
   ]
  },
  {
   "cell_type": "code",
   "execution_count": 2,
   "id": "d9bfa93c-01ad-4100-b8d8-432c9608a4b7",
   "metadata": {},
   "outputs": [
    {
     "name": "stdout",
     "output_type": "stream",
     "text": [
      "4\n"
     ]
    }
   ],
   "source": [
    "x = 4;\n",
    "y = x;\n",
    "print(y)"
   ]
  },
  {
   "cell_type": "markdown",
   "id": "23a230e1-fa1c-4be1-ae71-c26486ab9e8c",
   "metadata": {},
   "source": [
    "## Kết thúc"
   ]
  },
  {
   "cell_type": "code",
   "execution_count": null,
   "id": "034762cd-9a74-4181-8abe-0c3bf66d87e1",
   "metadata": {},
   "outputs": [],
   "source": []
  }
 ],
 "metadata": {
  "kernelspec": {
   "display_name": "Python 3 (ipykernel)",
   "language": "python",
   "name": "python3"
  },
  "language_info": {
   "codemirror_mode": {
    "name": "ipython",
    "version": 3
   },
   "file_extension": ".py",
   "mimetype": "text/x-python",
   "name": "python",
   "nbconvert_exporter": "python",
   "pygments_lexer": "ipython3",
   "version": "3.12.1"
  }
 },
 "nbformat": 4,
 "nbformat_minor": 5
}
