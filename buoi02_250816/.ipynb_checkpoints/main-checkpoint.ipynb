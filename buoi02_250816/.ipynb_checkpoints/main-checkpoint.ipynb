{
 "cells": [
  {
   "cell_type": "code",
   "execution_count": 6,
   "id": "c5e1c934-8bbb-4d90-8f28-ae7017b9f8f9",
   "metadata": {},
   "outputs": [
    {
     "name": "stdout",
     "output_type": "stream",
     "text": [
      "--- Compile ---\n",
      "--- List ---\n",
      "README.md\t\t\t   ex4_scientific2.txt\n",
      "dothi.png\t\t\t   first\n",
      "ex1_calc.py\t\t\t   first.cpp\n",
      "ex2_scientific1.html\t\t   main.ipynb\n",
      "ex2_scientific1.ipynb\t\t   my_lesson1.ipynb\n",
      "ex2_scientific1.txt\t\t   my_lesson1_250816.html\n",
      "ex2_scientific1_250816.ipynb.html  python101.ipynb\n",
      "--- Excute ---\n",
      "The value of c is 3.\n"
     ]
    }
   ],
   "source": [
    "print(\"--- Compile ---\")\n",
    "!g++ first.cpp -o first\n",
    "print(\"--- List ---\")\n",
    "!ls\n",
    "print(\"--- Excute ---\")\n",
    "!./first"
   ]
  },
  {
   "cell_type": "code",
   "execution_count": 8,
   "id": "a85c2cf4-fe5e-44b9-a077-4bae04645630",
   "metadata": {
    "scrolled": true
   },
   "outputs": [
    {
     "name": "stdout",
     "output_type": "stream",
     "text": [
      "The value of c is 3.\n",
      "\n"
     ]
    }
   ],
   "source": [
    "%run first.py"
   ]
  },
  {
   "cell_type": "code",
   "execution_count": 9,
   "id": "ecafd1b4-b558-4fb3-bc78-51d5f981e962",
   "metadata": {},
   "outputs": [
    {
     "name": "stdout",
     "output_type": "stream",
     "text": [
      "Hello, World!\n"
     ]
    }
   ],
   "source": [
    "%run hello.py"
   ]
  },
  {
   "cell_type": "code",
   "execution_count": null,
   "id": "54b3cb63-cc69-44c4-948f-5b5ba0e4a81c",
   "metadata": {},
   "outputs": [],
   "source": []
  }
 ],
 "metadata": {
  "kernelspec": {
   "display_name": "Python 3 (ipykernel)",
   "language": "python",
   "name": "python3"
  },
  "language_info": {
   "codemirror_mode": {
    "name": "ipython",
    "version": 3
   },
   "file_extension": ".py",
   "mimetype": "text/x-python",
   "name": "python",
   "nbconvert_exporter": "python",
   "pygments_lexer": "ipython3",
   "version": "3.12.1"
  }
 },
 "nbformat": 4,
 "nbformat_minor": 5
}
