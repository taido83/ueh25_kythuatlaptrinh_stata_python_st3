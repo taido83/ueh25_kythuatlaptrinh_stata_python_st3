{
  "nbformat": 4,
  "nbformat_minor": 0,
  "metadata": {
    "colab": {
      "provenance": [],
      "mount_file_id": "1Np8Jy7t8YRsbZrTGrr6Lgv9Xecg734pF",
      "authorship_tag": "ABX9TyMyqVi/BgNbIUresmZsPkMo",
      "include_colab_link": true
    },
    "kernelspec": {
      "name": "python3",
      "display_name": "Python 3"
    },
    "language_info": {
      "name": "python"
    }
  },
  "cells": [
    {
      "cell_type": "markdown",
      "metadata": {
        "id": "view-in-github",
        "colab_type": "text"
      },
      "source": [
        "<a href=\"https://colab.research.google.com/github/taido83/ueh25_kythuatlaptrinh_stata_python_st3/blob/main/buoi03_250819/python101_ST3.ipynb\" target=\"_parent\"><img src=\"https://colab.research.google.com/assets/colab-badge.svg\" alt=\"Open In Colab\"/></a>"
      ]
    },
    {
      "cell_type": "markdown",
      "source": [
        "# Python 101"
      ],
      "metadata": {
        "id": "AylQcbff0O2U"
      }
    },
    {
      "cell_type": "code",
      "source": [
        "!ls"
      ],
      "metadata": {
        "id": "b9NjPr6KMZuj",
        "outputId": "98395b1e-91a4-41e6-8d8a-832859307f56",
        "colab": {
          "base_uri": "https://localhost:8080/"
        }
      },
      "execution_count": 3,
      "outputs": [
        {
          "output_type": "stream",
          "name": "stdout",
          "text": [
            "first.cpp  sample_data\n"
          ]
        }
      ]
    },
    {
      "cell_type": "markdown",
      "source": [
        "## Trình biên dịch (compiler) vs. Thông dịch"
      ],
      "metadata": {
        "id": "0N5TGehO0aWb"
      }
    },
    {
      "cell_type": "code",
      "source": [
        "%%writefile first.cpp\n",
        "#include <stdio.h>\n",
        "int main(void) {\n",
        "  int a=27, b=6, c;\n",
        "  c = a%b;\n",
        "  printf(\"The value of c is %d.\\n\", c);\n",
        "  return 0;\n",
        "}"
      ],
      "metadata": {
        "colab": {
          "base_uri": "https://localhost:8080/"
        },
        "id": "RBsSv5AM0Xl_",
        "outputId": "d9837559-0c6b-4fbf-c63a-4e9221e28546"
      },
      "execution_count": 1,
      "outputs": [
        {
          "output_type": "stream",
          "name": "stdout",
          "text": [
            "Writing first.cpp\n"
          ]
        }
      ]
    },
    {
      "cell_type": "code",
      "source": [
        "!cat first.cpp\n",
        "print(\"-\"*50)\n",
        "\n",
        "print('Compile...')\n",
        "!gcc first.cpp -o first\n",
        "!ls\n",
        "\n",
        "print(\"-\"*50)\n",
        "print('Execute...')\n",
        "!./first"
      ],
      "metadata": {
        "colab": {
          "base_uri": "https://localhost:8080/"
        },
        "id": "we1GY37x0vmh",
        "outputId": "44395257-98bd-4f06-aedf-df12dfe9de5c"
      },
      "execution_count": null,
      "outputs": [
        {
          "output_type": "stream",
          "name": "stdout",
          "text": [
            "#include <stdio.h>\n",
            "int main(void) {\n",
            "  int a=27, b=6, c;\n",
            "  c = a%b;\n",
            "  printf(\"The value of c is %d.\\n\", c);\n",
            "  return 0;\n",
            "}\n",
            "--------------------------------------------------\n",
            "Compile...\n",
            "drive  first  first.cpp  sample_data\n",
            "--------------------------------------------------\n",
            "Execute...\n",
            "The value of c is 3.\n"
          ]
        }
      ]
    },
    {
      "cell_type": "code",
      "source": [
        "%%writefile first.py\n",
        "a = 27\n",
        "b = 6\n",
        "c = a%b;\n",
        "print(\"The value of c is %d.\\n\"% c)"
      ],
      "metadata": {
        "colab": {
          "base_uri": "https://localhost:8080/"
        },
        "id": "FiuvrInu1NZF",
        "outputId": "6ba9a221-5325-46d0-8a0a-9968b978da3a"
      },
      "execution_count": null,
      "outputs": [
        {
          "output_type": "stream",
          "name": "stdout",
          "text": [
            "Writing first.py\n"
          ]
        }
      ]
    },
    {
      "cell_type": "code",
      "source": [
        "!cat first.py\n",
        "print(\"-\"*50)\n",
        "print(\"Interpret...\")\n",
        "%run first.py"
      ],
      "metadata": {
        "colab": {
          "base_uri": "https://localhost:8080/"
        },
        "id": "EqjFaJDS1hwJ",
        "outputId": "ab37c39b-2415-4478-9965-69a91b973524"
      },
      "execution_count": null,
      "outputs": [
        {
          "output_type": "stream",
          "name": "stdout",
          "text": [
            "a = 27\n",
            "b = 6\n",
            "c = a%b;\n",
            "print(\"The value of c is %d.\\n\"% c)\n",
            "--------------------------------------------------\n",
            "Interpret...\n",
            "The value of c is 3.\n",
            "\n"
          ]
        }
      ]
    },
    {
      "cell_type": "code",
      "source": [
        "print(a, b, c)"
      ],
      "metadata": {
        "colab": {
          "base_uri": "https://localhost:8080/"
        },
        "id": "AN1y0Fkz1whm",
        "outputId": "8b9a6528-71a9-462a-b406-fa6b8ad6b4bd"
      },
      "execution_count": null,
      "outputs": [
        {
          "output_type": "stream",
          "name": "stdout",
          "text": [
            "27 6 3\n"
          ]
        }
      ]
    },
    {
      "cell_type": "markdown",
      "source": [
        "## Ngôn ngữ lập trình"
      ],
      "metadata": {
        "id": "8_qbVHKV4c0w"
      }
    },
    {
      "cell_type": "code",
      "source": [
        "from IPython.display import display"
      ],
      "metadata": {
        "id": "2KN4kCC14mSB"
      },
      "execution_count": null,
      "outputs": []
    },
    {
      "cell_type": "code",
      "source": [
        "print(\"Hello, World!\")\n",
        "display('Hello, World!')"
      ],
      "metadata": {
        "colab": {
          "base_uri": "https://localhost:8080/",
          "height": 53
        },
        "id": "ebsF51tB4bBr",
        "outputId": "87c2789e-e148-4af8-b1f4-ddd180026ac8"
      },
      "execution_count": null,
      "outputs": [
        {
          "output_type": "stream",
          "name": "stdout",
          "text": [
            "Hello, World!\n"
          ]
        },
        {
          "output_type": "display_data",
          "data": {
            "text/plain": [
              "'Hello, World!'"
            ],
            "application/vnd.google.colaboratory.intrinsic+json": {
              "type": "string"
            }
          },
          "metadata": {}
        }
      ]
    },
    {
      "cell_type": "code",
      "source": [
        "# comment\n",
        "'''\n",
        "comment\n",
        "'''\n",
        "print('comment')"
      ],
      "metadata": {
        "colab": {
          "base_uri": "https://localhost:8080/"
        },
        "id": "1QmH_H-e45sT",
        "outputId": "ecba2a90-1513-44c3-d097-fc55fac2f97a"
      },
      "execution_count": null,
      "outputs": [
        {
          "output_type": "stream",
          "name": "stdout",
          "text": [
            "comment\n"
          ]
        }
      ]
    },
    {
      "cell_type": "code",
      "source": [
        "# indent\n",
        "score = 80\n",
        "if score >= 60:\n",
        "  print(\"Pass\")\n",
        "  pass # dummy"
      ],
      "metadata": {
        "colab": {
          "base_uri": "https://localhost:8080/"
        },
        "id": "hpVXG4_m6gRt",
        "outputId": "d1d9f6a6-57b9-4e38-8f3c-288d0d2e2249"
      },
      "execution_count": null,
      "outputs": [
        {
          "output_type": "stream",
          "name": "stdout",
          "text": [
            "Pass\n"
          ]
        }
      ]
    },
    {
      "cell_type": "code",
      "source": [
        "# variable\n",
        "x = 2\n",
        "print(x, type(x))\n",
        "\n",
        "price = 2.5\n",
        "print(price, type(price))\n",
        "\n",
        "word = 'Hello'\n",
        "word = \"Hello\"\n",
        "print(word, type(word))\n",
        "\n",
        "word = \"\"\"\n",
        "Hello\n",
        "\"\"\"\n",
        "print(word, type(word))"
      ],
      "metadata": {
        "colab": {
          "base_uri": "https://localhost:8080/"
        },
        "id": "q8-RR0rG7CBK",
        "outputId": "ceba974a-e321-4a56-a5f2-5919bca46d21"
      },
      "execution_count": null,
      "outputs": [
        {
          "output_type": "stream",
          "name": "stdout",
          "text": [
            "2 <class 'int'>\n",
            "2.5 <class 'float'>\n",
            "Hello <class 'str'>\n",
            "\n",
            "Hello\n",
            " <class 'str'>\n"
          ]
        }
      ]
    },
    {
      "cell_type": "code",
      "source": [
        "x = 2\n",
        "y = x + 1\n",
        "print(f'x = {x}, y = {y}')\n",
        "print('x = %d, y = %d'%(x, y))"
      ],
      "metadata": {
        "colab": {
          "base_uri": "https://localhost:8080/"
        },
        "id": "HJbI-YBQ7rMH",
        "outputId": "74e39183-2815-4cce-9210-fcae9dce9b58"
      },
      "execution_count": null,
      "outputs": [
        {
          "output_type": "stream",
          "name": "stdout",
          "text": [
            "x = 2, y = 3\n",
            "x = 2, y = 3\n"
          ]
        }
      ]
    },
    {
      "cell_type": "markdown",
      "source": [
        "## Kết thúc"
      ],
      "metadata": {
        "id": "nuydfLVW0Tre"
      }
    },
    {
      "cell_type": "code",
      "source": [],
      "metadata": {
        "id": "-0YJS1r87APV"
      },
      "execution_count": null,
      "outputs": []
    }
  ]
}