{
 "cells": [
  {
   "cell_type": "markdown",
   "id": "90ff0205-a7de-496e-9734-f72f07907b51",
   "metadata": {},
   "source": [
    "# Buổi 03: Phân tích dữ liệu với Python"
   ]
  },
  {
   "cell_type": "code",
   "execution_count": 12,
   "id": "b4226588-5050-4ee2-8a2c-9d0b0ee2a748",
   "metadata": {},
   "outputs": [
    {
     "name": "stdout",
     "output_type": "stream",
     "text": [
      "COPYING     ch02.ipynb\tch06.ipynb  ch10.ipynb\tdatasets\n",
      "README.md   ch03.ipynb\tch07.ipynb  ch11.ipynb\texamples\n",
      "appa.ipynb  ch04.ipynb\tch08.ipynb  ch12.ipynb\trequirements.txt\n",
      "appb.ipynb  ch05.ipynb\tch09.ipynb  ch13.ipynb\n"
     ]
    }
   ],
   "source": [
    "# !rm -r pydata-book\n",
    "# !git clone https://github.com/wesm/pydata-book.git\n",
    "!ls pydata-book/\n",
    "# !sudo rm -r pydata-book/.git"
   ]
  },
  {
   "cell_type": "code",
   "execution_count": 28,
   "id": "b3a84a13-6362-43a4-b6c6-82706d96c94a",
   "metadata": {},
   "outputs": [],
   "source": [
    "# !git status\n",
    "# !git add . -n\n",
    "# !git add .\n",
    "# !git commit -m \"buoi03\"\n",
    "# !git push\n",
    "# !git status\n",
    "# !git push --force # ép phải commit (nếu xảy ra xung đột)\n",
    "# !git reset HEAD~  # phục hồi lại trạng thái commit gần nhất\n",
    "\n",
    "# !git add .\n",
    "# !git commit -m \"buoi03\"\n",
    "# !git push"
   ]
  },
  {
   "cell_type": "code",
   "execution_count": 32,
   "id": "26232dab-871a-4e2a-b4f8-371cf3cd6a9b",
   "metadata": {},
   "outputs": [],
   "source": [
    "# !ls\n",
    "# !mv pydata-book/ ../\n",
    "# !git add . -n\n",
    "# !git add .\n",
    "# !git commit -m \"buoi03\"\n",
    "# !git push"
   ]
  },
  {
   "cell_type": "code",
   "execution_count": null,
   "id": "b5f5163f-648b-4f16-9506-488f43e0fb62",
   "metadata": {},
   "outputs": [],
   "source": []
  },
  {
   "cell_type": "markdown",
   "id": "1ba16972-233b-4086-8d2d-560fcdbe1ada",
   "metadata": {},
   "source": [
    "## Kết thúc"
   ]
  }
 ],
 "metadata": {
  "kernelspec": {
   "display_name": "Python 3 (ipykernel)",
   "language": "python",
   "name": "python3"
  },
  "language_info": {
   "codemirror_mode": {
    "name": "ipython",
    "version": 3
   },
   "file_extension": ".py",
   "mimetype": "text/x-python",
   "name": "python",
   "nbconvert_exporter": "python",
   "pygments_lexer": "ipython3",
   "version": "3.12.1"
  }
 },
 "nbformat": 4,
 "nbformat_minor": 5
}
